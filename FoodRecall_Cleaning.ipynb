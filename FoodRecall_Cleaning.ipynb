{
 "cells": [
  {
   "cell_type": "markdown",
   "id": "19695168-57c8-4b2e-8fdf-376100a8a372",
   "metadata": {},
   "source": [
    "<h1>Food Recall Trends and Impact (2012 - 2025)</h1>\n",
    "\n",
    "<h5>Food recalls in the United States have had a significant impact on public health status and imposed financial burdens on businesses over the years. This project analyze food recall trends from 2012 to 2025 to identify the most common causes and evaluate their effects on consumer health and business operations. </h5>"
   ]
  },
  {
   "cell_type": "code",
   "execution_count": null,
   "id": "5dc13323-925b-4f56-964b-c24bb6043f71",
   "metadata": {},
   "outputs": [],
   "source": [
    "<h3>Data Cleaning</h3>\n",
    "<h5>Separate distribution location by state and region.</h5>"
   ]
  },
  {
   "cell_type": "code",
   "execution_count": 42,
   "id": "573e16a0-efd0-44ca-821b-f0403efbfe3c",
   "metadata": {},
   "outputs": [
    {
     "name": "stdout",
     "output_type": "stream",
     "text": [
      "Requirement already satisfied: ipython-sql in c:\\users\\jukji\\anaconda3\\lib\\site-packages (0.5.0)\n",
      "Requirement already satisfied: prettytable in c:\\users\\jukji\\anaconda3\\lib\\site-packages (from ipython-sql) (3.11.0)\n",
      "Requirement already satisfied: ipython in c:\\users\\jukji\\anaconda3\\lib\\site-packages (from ipython-sql) (8.20.0)\n",
      "Requirement already satisfied: sqlalchemy>=2.0 in c:\\users\\jukji\\anaconda3\\lib\\site-packages (from ipython-sql) (2.0.25)\n",
      "Requirement already satisfied: sqlparse in c:\\users\\jukji\\anaconda3\\lib\\site-packages (from ipython-sql) (0.5.1)\n",
      "Requirement already satisfied: six in c:\\users\\jukji\\anaconda3\\lib\\site-packages (from ipython-sql) (1.16.0)\n",
      "Requirement already satisfied: ipython-genutils in c:\\users\\jukji\\anaconda3\\lib\\site-packages (from ipython-sql) (0.2.0)\n",
      "Requirement already satisfied: typing-extensions>=4.6.0 in c:\\users\\jukji\\anaconda3\\lib\\site-packages (from sqlalchemy>=2.0->ipython-sql) (4.9.0)\n",
      "Requirement already satisfied: greenlet!=0.4.17 in c:\\users\\jukji\\anaconda3\\lib\\site-packages (from sqlalchemy>=2.0->ipython-sql) (3.0.1)\n",
      "Requirement already satisfied: decorator in c:\\users\\jukji\\anaconda3\\lib\\site-packages (from ipython->ipython-sql) (5.1.1)\n",
      "Requirement already satisfied: jedi>=0.16 in c:\\users\\jukji\\anaconda3\\lib\\site-packages (from ipython->ipython-sql) (0.18.1)\n",
      "Requirement already satisfied: matplotlib-inline in c:\\users\\jukji\\anaconda3\\lib\\site-packages (from ipython->ipython-sql) (0.1.6)\n",
      "Requirement already satisfied: prompt-toolkit<3.1.0,>=3.0.41 in c:\\users\\jukji\\anaconda3\\lib\\site-packages (from ipython->ipython-sql) (3.0.43)\n",
      "Requirement already satisfied: pygments>=2.4.0 in c:\\users\\jukji\\anaconda3\\lib\\site-packages (from ipython->ipython-sql) (2.15.1)\n",
      "Requirement already satisfied: stack-data in c:\\users\\jukji\\anaconda3\\lib\\site-packages (from ipython->ipython-sql) (0.2.0)\n",
      "Requirement already satisfied: traitlets>=5 in c:\\users\\jukji\\anaconda3\\lib\\site-packages (from ipython->ipython-sql) (5.7.1)\n",
      "Requirement already satisfied: colorama in c:\\users\\jukji\\anaconda3\\lib\\site-packages (from ipython->ipython-sql) (0.4.6)\n",
      "Requirement already satisfied: wcwidth in c:\\users\\jukji\\anaconda3\\lib\\site-packages (from prettytable->ipython-sql) (0.2.5)\n",
      "Requirement already satisfied: parso<0.9.0,>=0.8.0 in c:\\users\\jukji\\anaconda3\\lib\\site-packages (from jedi>=0.16->ipython->ipython-sql) (0.8.3)\n",
      "Requirement already satisfied: executing in c:\\users\\jukji\\anaconda3\\lib\\site-packages (from stack-data->ipython->ipython-sql) (0.8.3)\n",
      "Requirement already satisfied: asttokens in c:\\users\\jukji\\anaconda3\\lib\\site-packages (from stack-data->ipython->ipython-sql) (2.0.5)\n",
      "Requirement already satisfied: pure-eval in c:\\users\\jukji\\anaconda3\\lib\\site-packages (from stack-data->ipython->ipython-sql) (0.2.2)\n",
      "Requirement already satisfied: sqlalchemy in c:\\users\\jukji\\anaconda3\\lib\\site-packages (2.0.25)\n",
      "Requirement already satisfied: typing-extensions>=4.6.0 in c:\\users\\jukji\\anaconda3\\lib\\site-packages (from sqlalchemy) (4.9.0)\n",
      "Requirement already satisfied: greenlet!=0.4.17 in c:\\users\\jukji\\anaconda3\\lib\\site-packages (from sqlalchemy) (3.0.1)\n",
      "The sql extension is already loaded. To reload it, use:\n",
      "  %reload_ext sql\n"
     ]
    },
    {
     "name": "stderr",
     "output_type": "stream",
     "text": [
      "ERROR: Invalid requirement: '#install'\n"
     ]
    }
   ],
   "source": [
    "!pip install ipython-sql\n",
    "!pip install sqlalchemy\n",
    "!pip install us #install us library\n",
    "%load_ext sql\n",
    "db_path = \"Food_Recall.db\"\n",
    "%sql sqlite:///{db_path}"
   ]
  },
  {
   "cell_type": "code",
   "execution_count": 43,
   "id": "cc295da1-4f31-4019-8e07-0efd0fc708ea",
   "metadata": {},
   "outputs": [
    {
     "data": {
      "text/plain": [
       "27526"
      ]
     },
     "execution_count": 43,
     "metadata": {},
     "output_type": "execute_result"
    }
   ],
   "source": [
    "import sqlite3\n",
    "import pandas as pd\n",
    "import re #import regular expressions module (set of string that matches the criteria)\n",
    "from collections import defaultdict\n",
    "import us #import us library\n",
    "df = pd.read_csv(\"Food_Recall.csv\")\n",
    "conn = sqlite3.connect(\"Food_Recall.db\")\n",
    "df.to_sql(\"Food_Recall\", conn, if_exists=\"replace\", index=False)"
   ]
  },
  {
   "cell_type": "code",
   "execution_count": 44,
   "id": "826d0414-c1e6-48dd-94cb-f67806b2f24b",
   "metadata": {},
   "outputs": [
    {
     "name": "stdout",
     "output_type": "stream",
     "text": [
      " * sqlite:///Food_Recall.db\n",
      "Done.\n"
     ]
    },
    {
     "data": {
      "text/html": [
       "<table>\n",
       "    <thead>\n",
       "        <tr>\n",
       "            <th>Distribution Pattern</th>\n",
       "        </tr>\n",
       "    </thead>\n",
       "    <tbody>\n",
       "    </tbody>\n",
       "</table>"
      ],
      "text/plain": [
       "[]"
      ]
     },
     "execution_count": 44,
     "metadata": {},
     "output_type": "execute_result"
    }
   ],
   "source": [
    "%%sql\n",
    "--check for any null value\n",
    "SELECT \"Distribution Pattern\"\n",
    "FROM Food_Recall\n",
    "WHERE \"Distribution Pattern\" IS NULL;"
   ]
  },
  {
   "cell_type": "code",
   "execution_count": 53,
   "id": "3f75f828-aac1-4013-9943-c2d38ebb507e",
   "metadata": {},
   "outputs": [
    {
     "data": {
      "text/html": [
       "<div>\n",
       "<style scoped>\n",
       "    .dataframe tbody tr th:only-of-type {\n",
       "        vertical-align: middle;\n",
       "    }\n",
       "\n",
       "    .dataframe tbody tr th {\n",
       "        vertical-align: top;\n",
       "    }\n",
       "\n",
       "    .dataframe thead th {\n",
       "        text-align: right;\n",
       "    }\n",
       "</style>\n",
       "<table border=\"1\" class=\"dataframe\">\n",
       "  <thead>\n",
       "    <tr style=\"text-align: right;\">\n",
       "      <th></th>\n",
       "      <th>FEI Number</th>\n",
       "      <th>Recalling Firm Name</th>\n",
       "      <th>Product Type</th>\n",
       "      <th>Product Classification</th>\n",
       "      <th>Status</th>\n",
       "      <th>Distribution Pattern</th>\n",
       "      <th>Recalling Firm City</th>\n",
       "      <th>Recalling Firm State</th>\n",
       "      <th>Recalling Firm Country</th>\n",
       "      <th>Center Classification Date</th>\n",
       "      <th>Reason for Recall</th>\n",
       "      <th>Product Description</th>\n",
       "      <th>Event ID</th>\n",
       "      <th>Event Classification</th>\n",
       "      <th>Product ID</th>\n",
       "      <th>Center</th>\n",
       "      <th>Recall Details</th>\n",
       "    </tr>\n",
       "  </thead>\n",
       "  <tbody>\n",
       "    <tr>\n",
       "      <th>0</th>\n",
       "      <td>3004312676</td>\n",
       "      <td>HAR Maspeth Corp.</td>\n",
       "      <td>Food/Cosmetics</td>\n",
       "      <td>Class I</td>\n",
       "      <td>Ongoing</td>\n",
       "      <td>NY, NJ, MA, CT, PA, MD, NC, IL, MI, GA</td>\n",
       "      <td>Maspeth</td>\n",
       "      <td>New York</td>\n",
       "      <td>United States</td>\n",
       "      <td>3/21/2025</td>\n",
       "      <td>Contains undeclared egg</td>\n",
       "      <td>Jinga Glass Noodles with vegetables 8 oz. and ...</td>\n",
       "      <td>96503</td>\n",
       "      <td>Class I</td>\n",
       "      <td>213039</td>\n",
       "      <td>CFSAN</td>\n",
       "      <td>https://www.accessdata.fda.gov/scripts/ires/?P...</td>\n",
       "    </tr>\n",
       "    <tr>\n",
       "      <th>1</th>\n",
       "      <td>2938745</td>\n",
       "      <td>Lyons Magnus LLC</td>\n",
       "      <td>Food/Cosmetics</td>\n",
       "      <td>Class I</td>\n",
       "      <td>Ongoing</td>\n",
       "      <td>Distribution centers located throughout the U....</td>\n",
       "      <td>Fresno</td>\n",
       "      <td>California</td>\n",
       "      <td>United States</td>\n",
       "      <td>3/20/2025</td>\n",
       "      <td>Potential contamination with Listeria monocyto...</td>\n",
       "      <td>Ready Care Chocolate Shake (4 oz), UPC 1004579...</td>\n",
       "      <td>96376</td>\n",
       "      <td>Class I</td>\n",
       "      <td>212741</td>\n",
       "      <td>CFSAN</td>\n",
       "      <td>https://www.accessdata.fda.gov/scripts/ires/?P...</td>\n",
       "    </tr>\n",
       "    <tr>\n",
       "      <th>2</th>\n",
       "      <td>2938745</td>\n",
       "      <td>Lyons Magnus LLC</td>\n",
       "      <td>Food/Cosmetics</td>\n",
       "      <td>Class I</td>\n",
       "      <td>Ongoing</td>\n",
       "      <td>Distribution centers located throughout the U....</td>\n",
       "      <td>Fresno</td>\n",
       "      <td>California</td>\n",
       "      <td>United States</td>\n",
       "      <td>3/20/2025</td>\n",
       "      <td>Potential contamination with Listeria monocyto...</td>\n",
       "      <td>Ready Care Strawberry Shake (4 oz), UPC 100457...</td>\n",
       "      <td>96376</td>\n",
       "      <td>Class I</td>\n",
       "      <td>212977</td>\n",
       "      <td>CFSAN</td>\n",
       "      <td>https://www.accessdata.fda.gov/scripts/ires/?P...</td>\n",
       "    </tr>\n",
       "    <tr>\n",
       "      <th>3</th>\n",
       "      <td>2938745</td>\n",
       "      <td>Lyons Magnus LLC</td>\n",
       "      <td>Food/Cosmetics</td>\n",
       "      <td>Class I</td>\n",
       "      <td>Ongoing</td>\n",
       "      <td>Distribution centers located throughout the U....</td>\n",
       "      <td>Fresno</td>\n",
       "      <td>California</td>\n",
       "      <td>United States</td>\n",
       "      <td>3/20/2025</td>\n",
       "      <td>Potential contamination with Listeria monocyto...</td>\n",
       "      <td>Ready Care Vanilla Shake (4 oz), UPC 100457960...</td>\n",
       "      <td>96376</td>\n",
       "      <td>Class I</td>\n",
       "      <td>212978</td>\n",
       "      <td>CFSAN</td>\n",
       "      <td>https://www.accessdata.fda.gov/scripts/ires/?P...</td>\n",
       "    </tr>\n",
       "    <tr>\n",
       "      <th>4</th>\n",
       "      <td>2938745</td>\n",
       "      <td>Lyons Magnus LLC</td>\n",
       "      <td>Food/Cosmetics</td>\n",
       "      <td>Class I</td>\n",
       "      <td>Ongoing</td>\n",
       "      <td>Distribution centers located throughout the U....</td>\n",
       "      <td>Fresno</td>\n",
       "      <td>California</td>\n",
       "      <td>United States</td>\n",
       "      <td>3/20/2025</td>\n",
       "      <td>Potential contamination with Listeria monocyto...</td>\n",
       "      <td>Ready Care Chocolate Shake No Sugar Added (4 o...</td>\n",
       "      <td>96376</td>\n",
       "      <td>Class I</td>\n",
       "      <td>212982</td>\n",
       "      <td>CFSAN</td>\n",
       "      <td>https://www.accessdata.fda.gov/scripts/ires/?P...</td>\n",
       "    </tr>\n",
       "  </tbody>\n",
       "</table>\n",
       "</div>"
      ],
      "text/plain": [
       "   FEI Number Recalling Firm Name    Product Type Product Classification  \\\n",
       "0  3004312676   HAR Maspeth Corp.  Food/Cosmetics                Class I   \n",
       "1     2938745    Lyons Magnus LLC  Food/Cosmetics                Class I   \n",
       "2     2938745    Lyons Magnus LLC  Food/Cosmetics                Class I   \n",
       "3     2938745    Lyons Magnus LLC  Food/Cosmetics                Class I   \n",
       "4     2938745    Lyons Magnus LLC  Food/Cosmetics                Class I   \n",
       "\n",
       "    Status                               Distribution Pattern  \\\n",
       "0  Ongoing             NY, NJ, MA, CT, PA, MD, NC, IL, MI, GA   \n",
       "1  Ongoing  Distribution centers located throughout the U....   \n",
       "2  Ongoing  Distribution centers located throughout the U....   \n",
       "3  Ongoing  Distribution centers located throughout the U....   \n",
       "4  Ongoing  Distribution centers located throughout the U....   \n",
       "\n",
       "  Recalling Firm City Recalling Firm State Recalling Firm Country  \\\n",
       "0             Maspeth             New York          United States   \n",
       "1              Fresno           California          United States   \n",
       "2              Fresno           California          United States   \n",
       "3              Fresno           California          United States   \n",
       "4              Fresno           California          United States   \n",
       "\n",
       "  Center Classification Date  \\\n",
       "0                  3/21/2025   \n",
       "1                  3/20/2025   \n",
       "2                  3/20/2025   \n",
       "3                  3/20/2025   \n",
       "4                  3/20/2025   \n",
       "\n",
       "                                   Reason for Recall  \\\n",
       "0                            Contains undeclared egg   \n",
       "1  Potential contamination with Listeria monocyto...   \n",
       "2  Potential contamination with Listeria monocyto...   \n",
       "3  Potential contamination with Listeria monocyto...   \n",
       "4  Potential contamination with Listeria monocyto...   \n",
       "\n",
       "                                 Product Description  Event ID  \\\n",
       "0  Jinga Glass Noodles with vegetables 8 oz. and ...     96503   \n",
       "1  Ready Care Chocolate Shake (4 oz), UPC 1004579...     96376   \n",
       "2  Ready Care Strawberry Shake (4 oz), UPC 100457...     96376   \n",
       "3  Ready Care Vanilla Shake (4 oz), UPC 100457960...     96376   \n",
       "4  Ready Care Chocolate Shake No Sugar Added (4 o...     96376   \n",
       "\n",
       "  Event Classification  Product ID Center  \\\n",
       "0              Class I      213039  CFSAN   \n",
       "1              Class I      212741  CFSAN   \n",
       "2              Class I      212977  CFSAN   \n",
       "3              Class I      212978  CFSAN   \n",
       "4              Class I      212982  CFSAN   \n",
       "\n",
       "                                      Recall Details  \n",
       "0  https://www.accessdata.fda.gov/scripts/ires/?P...  \n",
       "1  https://www.accessdata.fda.gov/scripts/ires/?P...  \n",
       "2  https://www.accessdata.fda.gov/scripts/ires/?P...  \n",
       "3  https://www.accessdata.fda.gov/scripts/ires/?P...  \n",
       "4  https://www.accessdata.fda.gov/scripts/ires/?P...  "
      ]
     },
     "execution_count": 53,
     "metadata": {},
     "output_type": "execute_result"
    }
   ],
   "source": [
    "#inspecting data using Python\n",
    "df.head(5)"
   ]
  },
  {
   "cell_type": "code",
   "execution_count": 46,
   "id": "11219fd7-80fc-450a-9833-b5184f1ca225",
   "metadata": {},
   "outputs": [
    {
     "data": {
      "text/plain": [
       "FEI Number                    0\n",
       "Recalling Firm Name           0\n",
       "Product Type                  0\n",
       "Product Classification        0\n",
       "Status                        0\n",
       "Distribution Pattern          0\n",
       "Recalling Firm City           0\n",
       "Recalling Firm State          0\n",
       "Recalling Firm Country        0\n",
       "Center Classification Date    0\n",
       "Reason for Recall             0\n",
       "Product Description           0\n",
       "Event ID                      0\n",
       "Event Classification          0\n",
       "Product ID                    0\n",
       "Center                        0\n",
       "Recall Details                0\n",
       "dtype: int64"
      ]
     },
     "execution_count": 46,
     "metadata": {},
     "output_type": "execute_result"
    }
   ],
   "source": [
    "#checking for missing values\n",
    "df.isnull().sum()"
   ]
  },
  {
   "cell_type": "code",
   "execution_count": 47,
   "id": "7cab5cd0-a397-4df8-823b-ffd41efb8832",
   "metadata": {},
   "outputs": [
    {
     "data": {
      "text/plain": [
       "FEI Number                    object\n",
       "Recalling Firm Name           object\n",
       "Product Type                  object\n",
       "Product Classification        object\n",
       "Status                        object\n",
       "Distribution Pattern          object\n",
       "Recalling Firm City           object\n",
       "Recalling Firm State          object\n",
       "Recalling Firm Country        object\n",
       "Center Classification Date    object\n",
       "Reason for Recall             object\n",
       "Product Description           object\n",
       "Event ID                       int64\n",
       "Event Classification          object\n",
       "Product ID                     int64\n",
       "Center                        object\n",
       "Recall Details                object\n",
       "dtype: object"
      ]
     },
     "execution_count": 47,
     "metadata": {},
     "output_type": "execute_result"
    }
   ],
   "source": [
    "#check for data types\n",
    "df.dtypes"
   ]
  },
  {
   "cell_type": "code",
   "execution_count": 51,
   "id": "66ff5f7d-caa1-4de8-b3b1-4c244c93f7ef",
   "metadata": {},
   "outputs": [
    {
     "data": {
      "text/plain": [
       "FEI Number                     4599\n",
       "Recalling Firm Name            4914\n",
       "Product Type                      1\n",
       "Product Classification            3\n",
       "Status                            3\n",
       "Distribution Pattern           5777\n",
       "Recalling Firm City            1969\n",
       "Recalling Firm State             53\n",
       "Recalling Firm Country           33\n",
       "Center Classification Date     2654\n",
       "Reason for Recall              7809\n",
       "Product Description           27379\n",
       "Event ID                       7230\n",
       "Event Classification              3\n",
       "Product ID                    27526\n",
       "Center                            1\n",
       "Recall Details                27526\n",
       "dtype: int64"
      ]
     },
     "execution_count": 51,
     "metadata": {},
     "output_type": "execute_result"
    }
   ],
   "source": [
    "#checking each columns for anomalies\n",
    "#df[\"Product Classification\"].value_counts()\n",
    "df.nunique()"
   ]
  },
  {
   "cell_type": "code",
   "execution_count": 54,
   "id": "268e4d8b-9811-438f-a345-b7b43f9dde29",
   "metadata": {},
   "outputs": [],
   "source": [
    "df = df.drop(columns = [\"Event ID\", \"Event Classification\", \"Center\", \"Recall Details\"])"
   ]
  },
  {
   "cell_type": "code",
   "execution_count": 6,
   "id": "43b95d6f-e58d-4727-a9fa-d1d47a872aea",
   "metadata": {},
   "outputs": [
    {
     "name": "stdout",
     "output_type": "stream",
     "text": [
      "Alabama: 3637\n",
      "Alaska: 772\n",
      "Arizona: 4548\n",
      "Arkansas: 3178\n",
      "California: 7455\n",
      "Colorado: 4133\n",
      "Connecticut: 4267\n",
      "Delaware: 2259\n",
      "Florida: 7010\n",
      "Georgia: 5560\n",
      "Hawaii: 1282\n",
      "Idaho: 2079\n",
      "Illinois: 7233\n",
      "Indiana: 11629\n",
      "Iowa: 3666\n",
      "Kansas: 3181\n",
      "Kentucky: 4511\n",
      "Louisiana: 3458\n",
      "Maine: 2558\n",
      "Maryland: 4990\n",
      "Massachusetts: 4735\n",
      "Michigan: 6162\n",
      "Minnesota: 4528\n",
      "Mississippi: 2951\n",
      "Missouri: 5120\n",
      "Montana: 2070\n",
      "Nebraska: 2626\n",
      "Nevada: 3378\n",
      "New Hampshire: 2783\n",
      "New Jersey: 5874\n",
      "New Mexico: 2106\n",
      "New York: 8009\n",
      "North Carolina: 6053\n",
      "North Dakota: 1700\n",
      "Ohio: 7476\n",
      "Oklahoma: 3184\n",
      "Oregon: 4862\n",
      "Pennsylvania: 7569\n",
      "Rhode Island: 1883\n",
      "South Carolina: 4343\n",
      "South Dakota: 1434\n",
      "Tennessee: 4631\n",
      "Texas: 6711\n",
      "Utah: 2464\n",
      "Vermont: 1138\n",
      "Virginia: 6401\n",
      "Washington: 4918\n",
      "West Virginia: 1959\n",
      "Wisconsin: 5570\n",
      "Wyoming: 2083\n"
     ]
    }
   ],
   "source": [
    "#Count each state once per row even if both abbreviation and full name appear\n",
    "#Count either abbreviation or full name, not both, only one per state per row\n",
    "#Sum that up across all rows for each state\n",
    "\n",
    "#create dictionary of state abbreviations and full names\n",
    "states = {state.abbr: state.name for state in us.states.STATES}\n",
    "\n",
    "#Store in count number\n",
    "state_counts = defaultdict(int)\n",
    "\n",
    "#loop through each state abbreviation and full name\n",
    "for pattern in df['Distribution Pattern'].dropna():\n",
    "    for abbr, full in states.items():\n",
    "        if (re.search(r'\\b' + abbr + r'\\b', pattern, flags = re.IGNORECASE) or\n",
    "             re.search(r'\\b' + full + r'\\b', pattern, flags = re.IGNORECASE)):\n",
    "              state_counts[full] += 1\n",
    "\n",
    "#Get a count of how many rows mention each state\n",
    "#Print output line by line, more clean\n",
    "for full, count in sorted(state_counts.items()):\n",
    "    print(f\"{full}: {count}\")"
   ]
  }
 ],
 "metadata": {
  "kernelspec": {
   "display_name": "Python 3 (ipykernel)",
   "language": "python",
   "name": "python3"
  },
  "language_info": {
   "codemirror_mode": {
    "name": "ipython",
    "version": 3
   },
   "file_extension": ".py",
   "mimetype": "text/x-python",
   "name": "python",
   "nbconvert_exporter": "python",
   "pygments_lexer": "ipython3",
   "version": "3.11.7"
  }
 },
 "nbformat": 4,
 "nbformat_minor": 5
}
